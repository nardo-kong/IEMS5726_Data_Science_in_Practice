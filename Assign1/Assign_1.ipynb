{
 "cells": [
  {
   "cell_type": "code",
   "execution_count": 8,
   "metadata": {},
   "outputs": [],
   "source": [
    "# 1155202866\n",
    "import numpy as np\n",
    "import pandas as pd\n",
    "# Problem 2\n",
    "def problem_2(n):\n",
    "    output = \"\"\n",
    "    for i in range(1, n*4-2):\n",
    "        if i % 2 == 1:\n",
    "            a = max((n*4-2-i), i)\n",
    "            b = (n*4-3) - a\n",
    "            for j in range(1, n*4-2):\n",
    "                if j % 2 == 1:\n",
    "                    output += \"@\"\n",
    "                else:\n",
    "                    if j <= b+1 or n*4-2-j <= b+1:\n",
    "                        output += \" \"\n",
    "                    else:\n",
    "                        output += \"@\"\n",
    "            output += \"\\n\"\n",
    "        else:\n",
    "            for j in range(1, n*4-2):\n",
    "                if j % 2 == 0:\n",
    "                    output += \" \"\n",
    "                else:\n",
    "                    c = min(i, n*4-2-i)\n",
    "                    if j < c or n*4-2-j < c:\n",
    "                        output += \"@\"\n",
    "                    else:\n",
    "                        output += \" \"\n",
    "            output += \"\\n\"\n",
    "        \n",
    "         \n",
    "    return output"
   ]
  },
  {
   "cell_type": "code",
   "execution_count": 23,
   "metadata": {},
   "outputs": [
    {
     "name": "stdout",
     "output_type": "stream",
     "text": [
      "@@@@@@@@@@@@@\n",
      "@           @\n",
      "@ @@@@@@@@@ @\n",
      "@ @       @ @\n",
      "@ @ @@@@@ @ @\n",
      "@ @ @   @ @ @\n",
      "@ @ @ @ @ @ @\n",
      "@ @ @   @ @ @\n",
      "@ @ @@@@@ @ @\n",
      "@ @       @ @\n",
      "@ @@@@@@@@@ @\n",
      "@           @\n",
      "@@@@@@@@@@@@@\n",
      "\n"
     ]
    }
   ],
   "source": [
    "print(problem_2(4))"
   ]
  },
  {
   "cell_type": "code",
   "execution_count": 24,
   "metadata": {},
   "outputs": [
    {
     "name": "stdout",
     "output_type": "stream",
     "text": [
      "@@@@@@@@@@@@@\n",
      "@           @\n",
      "@ @@@@@@@@@ @\n",
      "@ @       @ @\n",
      "@ @ @@@@@ @ @\n",
      "@ @ @   @ @ @\n",
      "@ @ @ @ @ @ @\n",
      "@ @ @   @ @ @\n",
      "@ @ @@@@@ @ @\n",
      "@ @       @ @\n",
      "@ @@@@@@@@@ @\n",
      "@           @\n",
      "@@@@@@@@@@@@@\n",
      "\n"
     ]
    }
   ],
   "source": [
    "s = problem_2(4)\n",
    "print(s)\n"
   ]
  },
  {
   "cell_type": "code",
   "execution_count": 33,
   "metadata": {},
   "outputs": [],
   "source": [
    "# Problem 3\n",
    "def problem_3(mat):\n",
    "    mat_squ = np.square(mat)\n",
    "    rowsum = np.sum(mat_squ, axis=1)\n",
    "    colsum = np.sum(mat_squ, axis=0)\n",
    "    return rowsum, colsum\n"
   ]
  },
  {
   "cell_type": "code",
   "execution_count": 35,
   "metadata": {},
   "outputs": [
    {
     "name": "stdout",
     "output_type": "stream",
     "text": [
      "row sum : [ 2 14]\n",
      "col sum : [ 2  4 10]\n"
     ]
    }
   ],
   "source": [
    "m = np.array([[1,0,1],[-1,2,-3]])\n",
    "r, c = problem_3(m)\n",
    "print(\"row sum :\", r)\n",
    "print(\"col sum :\", c)"
   ]
  },
  {
   "cell_type": "code",
   "execution_count": 38,
   "metadata": {},
   "outputs": [],
   "source": [
    "# Problem 4\n",
    "def problem_4(survey):\n",
    "    \n",
    "    return output\n"
   ]
  },
  {
   "cell_type": "code",
   "execution_count": 3,
   "metadata": {},
   "outputs": [],
   "source": [
    "import numpy as np\n",
    "\n",
    "def problem_4(survey):\n",
    "    valid = range(1, 7)\n",
    "    mask = np.isin(survey, valid)\n",
    "    valid_nums = np.where(mask, survey, np.nan)\n",
    "    averages = np.nanmean(valid_nums, axis=0)\n",
    "    output = np.where(mask, survey, averages)\n",
    "\n",
    "    return output"
   ]
  },
  {
   "cell_type": "code",
   "execution_count": 4,
   "metadata": {},
   "outputs": [
    {
     "name": "stdout",
     "output_type": "stream",
     "text": [
      "[[1.         2.         3.         4.         5.         6.        ]\n",
      " [3.         3.         3.         3.         4.         4.        ]\n",
      " [3.83333333 4.         6.         2.         5.         3.        ]\n",
      " [6.         6.         6.         6.         5.         6.        ]\n",
      " [2.         4.16666667 4.83333333 3.         5.         4.        ]\n",
      " [5.         4.         5.         4.         5.         4.83333333]\n",
      " [6.         6.         6.         6.         6.         6.        ]]\n"
     ]
    }
   ],
   "source": [
    "m = np.array([[1,2,3,4,5,6],[3,3,3,3,4,4],[0,4,6,2,7,3],\n",
    "[6,6,6,6,7,6],[2,-1,-1,3,5,4],[5,4,5,4,54,0],[6,6,6,6,6,6]])\n",
    "m_processed = problem_4(m)\n",
    "print(m_processed)"
   ]
  },
  {
   "cell_type": "code",
   "execution_count": 23,
   "metadata": {},
   "outputs": [],
   "source": [
    "# Problem 5\n",
    "from datetime import datetime, timedelta\n",
    "def problem_5(dates):\n",
    "    header = [\"date\",\"year\",\"month\",\"day\",\"hour\"]\n",
    "    df = pd.DataFrame(columns=header)\n",
    "    for date in dates:\n",
    "        df = df.append({\"date\": date, \"year\": date.year , \"month\": date.month, \"day\": date.day, \"hour\": date.hour}, ignore_index=True)\n",
    "    df['year'] = df['year'].astype(\"Int64\")\n",
    "    df['month'] = df['month'].astype(\"Int64\")\n",
    "    df['day'] = df['day'].astype(\"Int64\")\n",
    "    df['hour'] = df['hour'].astype(\"Int64\")\n",
    "    return df"
   ]
  },
  {
   "cell_type": "code",
   "execution_count": 24,
   "metadata": {},
   "outputs": [
    {
     "name": "stdout",
     "output_type": "stream",
     "text": [
      "        date  year  month  day  hour\n",
      "0 2023-09-01  2023      9    1     0\n",
      "1 2023-09-02  2023      9    2     0\n",
      "2 2023-09-03  2023      9    3     0\n",
      "3 2023-09-04  2023      9    4     0\n",
      "4 2023-09-05  2023      9    5     0\n",
      "5 2023-09-06  2023      9    6     0\n",
      "6 2023-09-07  2023      9    7     0\n",
      "7 2023-09-08  2023      9    8     0\n",
      "8 2023-09-09  2023      9    9     0\n",
      "9 2023-09-10  2023      9   10     0\n",
      "date     datetime64[ns]\n",
      "year              Int64\n",
      "month             Int64\n",
      "day               Int64\n",
      "hour              Int64\n",
      "dtype: object\n"
     ]
    },
    {
     "name": "stderr",
     "output_type": "stream",
     "text": [
      "C:\\Users\\user3\\AppData\\Local\\Temp\\2\\ipykernel_19212\\3040617852.py:7: FutureWarning: The frame.append method is deprecated and will be removed from pandas in a future version. Use pandas.concat instead.\n",
      "  df = df.append({\"date\": date, \"year\": date.year , \"month\": date.month, \"day\": date.day, \"hour\": date.hour}, ignore_index=True)\n",
      "C:\\Users\\user3\\AppData\\Local\\Temp\\2\\ipykernel_19212\\3040617852.py:7: FutureWarning: The frame.append method is deprecated and will be removed from pandas in a future version. Use pandas.concat instead.\n",
      "  df = df.append({\"date\": date, \"year\": date.year , \"month\": date.month, \"day\": date.day, \"hour\": date.hour}, ignore_index=True)\n",
      "C:\\Users\\user3\\AppData\\Local\\Temp\\2\\ipykernel_19212\\3040617852.py:7: FutureWarning: The frame.append method is deprecated and will be removed from pandas in a future version. Use pandas.concat instead.\n",
      "  df = df.append({\"date\": date, \"year\": date.year , \"month\": date.month, \"day\": date.day, \"hour\": date.hour}, ignore_index=True)\n",
      "C:\\Users\\user3\\AppData\\Local\\Temp\\2\\ipykernel_19212\\3040617852.py:7: FutureWarning: The frame.append method is deprecated and will be removed from pandas in a future version. Use pandas.concat instead.\n",
      "  df = df.append({\"date\": date, \"year\": date.year , \"month\": date.month, \"day\": date.day, \"hour\": date.hour}, ignore_index=True)\n",
      "C:\\Users\\user3\\AppData\\Local\\Temp\\2\\ipykernel_19212\\3040617852.py:7: FutureWarning: The frame.append method is deprecated and will be removed from pandas in a future version. Use pandas.concat instead.\n",
      "  df = df.append({\"date\": date, \"year\": date.year , \"month\": date.month, \"day\": date.day, \"hour\": date.hour}, ignore_index=True)\n",
      "C:\\Users\\user3\\AppData\\Local\\Temp\\2\\ipykernel_19212\\3040617852.py:7: FutureWarning: The frame.append method is deprecated and will be removed from pandas in a future version. Use pandas.concat instead.\n",
      "  df = df.append({\"date\": date, \"year\": date.year , \"month\": date.month, \"day\": date.day, \"hour\": date.hour}, ignore_index=True)\n",
      "C:\\Users\\user3\\AppData\\Local\\Temp\\2\\ipykernel_19212\\3040617852.py:7: FutureWarning: The frame.append method is deprecated and will be removed from pandas in a future version. Use pandas.concat instead.\n",
      "  df = df.append({\"date\": date, \"year\": date.year , \"month\": date.month, \"day\": date.day, \"hour\": date.hour}, ignore_index=True)\n",
      "C:\\Users\\user3\\AppData\\Local\\Temp\\2\\ipykernel_19212\\3040617852.py:7: FutureWarning: The frame.append method is deprecated and will be removed from pandas in a future version. Use pandas.concat instead.\n",
      "  df = df.append({\"date\": date, \"year\": date.year , \"month\": date.month, \"day\": date.day, \"hour\": date.hour}, ignore_index=True)\n",
      "C:\\Users\\user3\\AppData\\Local\\Temp\\2\\ipykernel_19212\\3040617852.py:7: FutureWarning: The frame.append method is deprecated and will be removed from pandas in a future version. Use pandas.concat instead.\n",
      "  df = df.append({\"date\": date, \"year\": date.year , \"month\": date.month, \"day\": date.day, \"hour\": date.hour}, ignore_index=True)\n",
      "C:\\Users\\user3\\AppData\\Local\\Temp\\2\\ipykernel_19212\\3040617852.py:7: FutureWarning: The frame.append method is deprecated and will be removed from pandas in a future version. Use pandas.concat instead.\n",
      "  df = df.append({\"date\": date, \"year\": date.year , \"month\": date.month, \"day\": date.day, \"hour\": date.hour}, ignore_index=True)\n"
     ]
    }
   ],
   "source": [
    "start_date = datetime(2023, 9, 1)\n",
    "end_date = datetime(2023, 9, 10)\n",
    "dates = []\n",
    "while start_date <= end_date:\n",
    "    dates.append(start_date)\n",
    "    start_date += timedelta(days=1)\n",
    "df = problem_5(dates)\n",
    "print(df)\n",
    "print(df.dtypes)"
   ]
  },
  {
   "cell_type": "code",
   "execution_count": 44,
   "metadata": {},
   "outputs": [],
   "source": [
    "# Problem 6\n",
    "from scipy.stats import chisquare\n",
    "def problem_6(list_of_sum):\n",
    "    obs = []\n",
    "    for i in range(11):\n",
    "        obs.append(list_of_sum.count(i+2))\n",
    "    f_obs = np.array(obs)\n",
    "    f_exp = np.array([1,2,3,4,5,6,5,4,3,2,1])/36*len(list_of_sum)\n",
    "    chi2, p = chisquare(f_obs, f_exp)\n",
    "    return p, chi2"
   ]
  },
  {
   "cell_type": "code",
   "execution_count": 45,
   "metadata": {},
   "outputs": [
    {
     "name": "stdout",
     "output_type": "stream",
     "text": [
      "p-value : 0.907240414767742\n",
      "chi-square : 4.75\n"
     ]
    }
   ],
   "source": [
    "sum = [2,7,10,10,11,8,5,6,6,5,5,6,6,9,3,7,9,7,10,8]\n",
    "p, chi2 = problem_6(sum)\n",
    "print(\"p-value :\", p)\n",
    "print(\"chi-square :\", chi2)\n"
   ]
  }
 ],
 "metadata": {
  "kernelspec": {
   "display_name": "Python 3",
   "language": "python",
   "name": "python3"
  },
  "language_info": {
   "codemirror_mode": {
    "name": "ipython",
    "version": 3
   },
   "file_extension": ".py",
   "mimetype": "text/x-python",
   "name": "python",
   "nbconvert_exporter": "python",
   "pygments_lexer": "ipython3",
   "version": "3.8.3rc1"
  }
 },
 "nbformat": 4,
 "nbformat_minor": 2
}
