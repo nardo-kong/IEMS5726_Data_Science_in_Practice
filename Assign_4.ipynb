{
 "cells": [
  {
   "cell_type": "code",
   "execution_count": 3,
   "metadata": {},
   "outputs": [
    {
     "name": "stderr",
     "output_type": "stream",
     "text": [
      "c:\\ProgramData\\Anaconda3\\lib\\site-packages\\scipy\\__init__.py:155: UserWarning: A NumPy version >=1.18.5 and <1.25.0 is required for this version of SciPy (detected version 1.26.3\n",
      "  warnings.warn(f\"A NumPy version >={np_minversion} and <{np_maxversion}\"\n"
     ]
    }
   ],
   "source": [
    "# 1155202866\n",
    "import numpy as np\n",
    "import pandas as pd\n",
    "import random\n",
    "import matplotlib.pyplot as plt\n",
    "from matplotlib import gridspec\n",
    "import seaborn as sns\n",
    "import re\n",
    "from wordcloud import WordCloud\n",
    "\n"
   ]
  },
  {
   "cell_type": "code",
   "execution_count": 4,
   "metadata": {},
   "outputs": [],
   "source": [
    "# Problem 2\n",
    "def problem_2(input_csv_list, output=\"q2.jpg\"):\n",
    "    all_data = []\n",
    "\n",
    "    # Read and append all data to the list\n",
    "    for csv_file in input_csv_list:\n",
    "        data = pd.read_csv(csv_file, header=None, names=['Test1', 'Test2'])\n",
    "        data['Class'] = csv_file\n",
    "        all_data.append(data)\n",
    "\n",
    "    all_data_df = pd.concat(all_data)  # Concatenate all data into a single DataFrame\n",
    "\n",
    "    fig, axs = plt.subplots(1, 2, figsize=(10, 6))  # Create a subplot for each test\n",
    "\n",
    "    # Plot the data\n",
    "    sns.boxplot(x='Class', y='Test1', data=all_data_df, ax=axs[0])\n",
    "    sns.boxplot(x='Class', y='Test2', data=all_data_df, ax=axs[1])\n",
    "\n",
    "    axs[0].set_title('Test1')\n",
    "    axs[1].set_title('Test2')\n",
    "    for j in range(2):\n",
    "        axs[j].set_ylabel('Score')\n",
    "        axs[j].set_ylim(0, 100)\n",
    "        axs[j].grid(True)\n",
    "\n",
    "    fig.suptitle('Test result')\n",
    "    plt.tight_layout()  \n",
    "    plt.savefig(output, bbox_inches='tight')  # do not show the plt\n",
    "    plt.close()\n"
   ]
  },
  {
   "cell_type": "code",
   "execution_count": 5,
   "metadata": {},
   "outputs": [],
   "source": [
    "filenames = [\"classA.csv\",\"classB.csv\",\"classC.csv\"]\n",
    "problem_2(filenames, \"q2.png\")"
   ]
  },
  {
   "cell_type": "code",
   "execution_count": 6,
   "metadata": {},
   "outputs": [],
   "source": [
    "# Problem 3\n",
    "def problem_3(filenames, output=\"q3.jpg\"):\n",
    "    # write your logic here\n",
    "    cols = 2\n",
    "    rows = (len(filenames) + 1)//cols\n",
    "    fig, axs = plt.subplots(rows, cols, figsize=(10, rows * 5))\n",
    "    for i in range(rows * cols):\n",
    "        ax = axs[i//2, i%2]\n",
    "        if i < len(filenames):\n",
    "            with open(filenames[i], 'r', encoding='utf-8') as f:\n",
    "                text = f.read()\n",
    "                text = re.sub(r'[^\\w\\s]', '', text)\n",
    "                text = re.sub(r'\\d', '', text)\n",
    "                text = text.lower()\n",
    "                word_cloud = WordCloud(collocations = False, background_color = 'white', random_state=5726).generate(text)\n",
    "                ax.imshow(word_cloud, interpolation='bilinear')\n",
    "        ax.axis('off')\n",
    "    plt.tight_layout()\n",
    "    plt.savefig(output) # do not show the plt\n",
    "    plt.close()\n"
   ]
  },
  {
   "cell_type": "code",
   "execution_count": 7,
   "metadata": {},
   "outputs": [
    {
     "data": {
      "text/plain": [
       "<Figure size 640x480 with 0 Axes>"
      ]
     },
     "metadata": {},
     "output_type": "display_data"
    }
   ],
   "source": [
    "# Testing: Problem 3\n",
    "plt.clf()\n",
    "filenames = [\"paragraph1.txt\",\"paragraph2.txt\",\"paragraph3.txt\"]\n",
    "problem_3(filenames, \"q3.png\")"
   ]
  },
  {
   "cell_type": "code",
   "execution_count": 8,
   "metadata": {},
   "outputs": [],
   "source": [
    "# Problem 4\n",
    "def problem_4(df, output=\"q4.png\"):\n",
    "    # write your logic here\n",
    "    df['Boysbackup'] = df['Boys']\n",
    "    df['Boys'] = df['Boys'] / ( df['Boys'] + df['Girls'] )\n",
    "    df['Girls'] = df['Girls'] / ( df['Boysbackup'] + df['Girls'] )\n",
    "    df.drop(columns=['Boysbackup'], inplace=True)\n",
    "\n",
    "    ax = df.plot(kind='barh', stacked=True, figsize=(10, 5))\n",
    "\n",
    "    # Label the bars with the percentage values\n",
    "    for p in ax.patches:\n",
    "        width = p.get_width()\n",
    "        plt.text(p.get_x() + width,\n",
    "                 p.get_y() + p.get_height()/2,\n",
    "                 f'{width:.4f}',\n",
    "                 ha='left',\n",
    "                 va='center')\n",
    "\n",
    "    plt.title('Passing Percentage')\n",
    "    plt.xticks(np.arange(0, 1.2, 0.2))\n",
    "    plt.ylabel('Years')\n",
    "\n",
    "    plt.savefig(output) # do not show the plt\n",
    "    plt.close()\n"
   ]
  },
  {
   "cell_type": "code",
   "execution_count": 9,
   "metadata": {},
   "outputs": [
    {
     "data": {
      "text/plain": [
       "<Figure size 640x480 with 0 Axes>"
      ]
     },
     "metadata": {},
     "output_type": "display_data"
    }
   ],
   "source": [
    "# Testing: Problem 4\n",
    "plt.clf()\n",
    "students = pd.DataFrame({'Boys': [67, 78], 'Girls': [72, 80], }, index=['First Year', 'Second Year'])\n",
    "problem_4(students, \"q4.jpg\")"
   ]
  },
  {
   "cell_type": "code",
   "execution_count": 16,
   "metadata": {},
   "outputs": [],
   "source": [
    "# Problem 5\n",
    "def problem_5(n=100, r=1, output=\"q5.jpg\"):\n",
    "    # write your logic here\n",
    "    random.seed(4320) # for reproducibility\n",
    "\n",
    "    square_x = []\n",
    "    square_y = []\n",
    "    circle_x = []\n",
    "    circle_y = []\n",
    "    \n",
    "    for _ in range(n):\n",
    "        side = random.randint(1, 4)\n",
    "        position = random.uniform(-r, r)\n",
    "        if side == 1:\n",
    "            square_x.append(position)\n",
    "            square_y.append(r)\n",
    "        elif side == 2:\n",
    "            square_x.append(r)\n",
    "            square_y.append(position)\n",
    "        elif side == 3:\n",
    "            square_x.append(position)\n",
    "            square_y.append(-r)\n",
    "        else:\n",
    "            square_x.append(-r)\n",
    "            square_y.append(position)\n",
    "    \n",
    "    for _ in range(n):\n",
    "        angle = random.uniform(0, 2 * np.pi)\n",
    "        circle_x.append(r * np.cos(angle))\n",
    "        circle_y.append(r * np.sin(angle))\n",
    "    \n",
    "    plt.figure()\n",
    "    plt.scatter(square_x, square_y, c='purple')\n",
    "    plt.scatter(circle_x, circle_y, label='Circle Cluster')\n",
    "    \n",
    "    plt.savefig(output)\n",
    "    # do not show the plt\n",
    "    plt.close()"
   ]
  },
  {
   "cell_type": "code",
   "execution_count": 17,
   "metadata": {},
   "outputs": [
    {
     "data": {
      "text/plain": [
       "<Figure size 640x480 with 0 Axes>"
      ]
     },
     "metadata": {},
     "output_type": "display_data"
    }
   ],
   "source": [
    "# Testing: Problem 5\n",
    "plt.clf()\n",
    "problem_5(n=200, r=5, output=\"cluster.jpg\")"
   ]
  },
  {
   "cell_type": "code",
   "execution_count": 30,
   "metadata": {},
   "outputs": [],
   "source": [
    "# Problem 6\n",
    "def problem_6(data, b=10, output=\"q6.jpg\"):\n",
    "    # write your logic here, model is the trained ridge model\n",
    "    random.seed(4320) # for reproducibility\n",
    "\n",
    "    plt.hist(data, bins=b)\n",
    "\n",
    "    if np.mean(data) < np.median(data):\n",
    "        plt.gca().yaxis.tick_right()\n",
    "    else:\n",
    "        plt.gca().yaxis.tick_left()\n",
    "\n",
    "    plt.savefig(output)  \n",
    "    # do not show the plt\n",
    "    plt.close()"
   ]
  },
  {
   "cell_type": "code",
   "execution_count": 31,
   "metadata": {},
   "outputs": [],
   "source": [
    "# Testing: Problem 6\n",
    "plt.clf()\n",
    "data = np.array([1,1,1,1,1,1,2,2,2,2,2,2,2,3,3,3,3,4,4,5,5,6,7,8,9,10,10])\n",
    "problem_6(data, b=10, output=\"hist_left.jpg\")\n",
    "plt.clf()\n",
    "data = 11 - data\n",
    "problem_6(data, b=5, output=\"hist_right.jpg\")\n"
   ]
  }
 ],
 "metadata": {
  "kernelspec": {
   "display_name": "Python 3",
   "language": "python",
   "name": "python3"
  },
  "language_info": {
   "codemirror_mode": {
    "name": "ipython",
    "version": 3
   },
   "file_extension": ".py",
   "mimetype": "text/x-python",
   "name": "python",
   "nbconvert_exporter": "python",
   "pygments_lexer": "ipython3",
   "version": "3.9.13"
  }
 },
 "nbformat": 4,
 "nbformat_minor": 2
}
