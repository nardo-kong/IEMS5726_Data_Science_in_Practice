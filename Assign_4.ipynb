{
 "cells": [
  {
   "cell_type": "code",
   "execution_count": 1,
   "metadata": {},
   "outputs": [
    {
     "name": "stderr",
     "output_type": "stream",
     "text": [
      "c:\\Users\\86136\\AppData\\Local\\Programs\\Python\\Python38\\lib\\site-packages\\scipy\\__init__.py:146: UserWarning: A NumPy version >=1.16.5 and <1.23.0 is required for this version of SciPy (detected version 1.24.3\n",
      "  warnings.warn(f\"A NumPy version >={np_minversion} and <{np_maxversion}\"\n"
     ]
    }
   ],
   "source": [
    "# 1155202866\n",
    "import numpy as np\n",
    "import pandas as pd\n",
    "import random\n",
    "import matplotlib.pyplot as plt\n",
    "from matplotlib import gridspec\n",
    "import seaborn as sns\n",
    "import re\n",
    "from wordcloud import WordCloud\n",
    "\n"
   ]
  },
  {
   "cell_type": "code",
   "execution_count": 2,
   "metadata": {},
   "outputs": [],
   "source": [
    "# Problem 2\n",
    "def problem_2(input_csv_list, output=\"q2.jpg\"):\n",
    "    all_data = []\n",
    "\n",
    "    # Read and append all data to the list\n",
    "    for csv_file in input_csv_list:\n",
    "        data = pd.read_csv(csv_file, header=None, names=['Test1', 'Test2'])\n",
    "        data['Class'] = csv_file\n",
    "        all_data.append(data)\n",
    "\n",
    "    all_data_df = pd.concat(all_data)  # Concatenate all data into a single DataFrame\n",
    "\n",
    "    fig, axs = plt.subplots(1, 2, figsize=(10, 6))  # Create a subplot for each test\n",
    "\n",
    "    # Plot the data\n",
    "    sns.boxplot(x='Class', y='Test1', data=all_data_df, ax=axs[0])\n",
    "    sns.boxplot(x='Class', y='Test2', data=all_data_df, ax=axs[1])\n",
    "\n",
    "    axs[0].set_title('Test1')\n",
    "    axs[1].set_title('Test2')\n",
    "    for j in range(2):\n",
    "        axs[j].set_ylabel('Score')\n",
    "        axs[j].set_ylim(0, 100)\n",
    "        axs[j].grid(True)\n",
    "\n",
    "    fig.suptitle('Test result')\n",
    "    plt.tight_layout()  \n",
    "    plt.savefig(output, bbox_inches='tight')  # do not show the plt\n",
    "    plt.close()\n"
   ]
  },
  {
   "cell_type": "code",
   "execution_count": 3,
   "metadata": {},
   "outputs": [],
   "source": [
    "filenames = [\"classA.csv\",\"classB.csv\",\"classC.csv\"]\n",
    "problem_2(filenames, \"q2.png\")"
   ]
  },
  {
   "cell_type": "code",
   "execution_count": 23,
   "metadata": {},
   "outputs": [],
   "source": [
    "# Problem 3\n",
    "def problem_3(filenames, output=\"q3.jpg\"):\n",
    "    # write your logic here\n",
    "    cols = 2\n",
    "    rows = (len(filenames) + 1)//cols\n",
    "    fig, axs = plt.subplots(rows, cols, figsize=(10, rows * 5))\n",
    "    for i in range(rows * cols):\n",
    "        ax = axs[i//2, i%2]\n",
    "        if i < len(filenames):\n",
    "            with open(filenames[i], 'r', encoding='utf-8') as f:\n",
    "                text = f.read()\n",
    "                text = re.sub(r'[^\\w\\s]', '', text)\n",
    "                text = re.sub(r'\\d', '', text)\n",
    "                text = text.lower()\n",
    "                word_cloud = WordCloud(collocations = False, background_color = 'white', random_state=5726).generate(text)\n",
    "                ax.imshow(word_cloud, interpolation='bilinear')\n",
    "        ax.axis('off')\n",
    "    plt.tight_layout()\n",
    "    plt.savefig(output) # do not show the plt\n",
    "    plt.close()\n"
   ]
  },
  {
   "cell_type": "code",
   "execution_count": 24,
   "metadata": {},
   "outputs": [
    {
     "data": {
      "text/plain": [
       "<Figure size 432x288 with 0 Axes>"
      ]
     },
     "metadata": {},
     "output_type": "display_data"
    }
   ],
   "source": [
    "# Testing: Problem 3\n",
    "plt.clf()\n",
    "filenames = [\"paragraph1.txt\",\"paragraph2.txt\",\"paragraph3.txt\"]\n",
    "problem_3(filenames, \"q3.png\")"
   ]
  },
  {
   "cell_type": "code",
   "execution_count": null,
   "metadata": {},
   "outputs": [],
   "source": [
    "# Problem 4\n",
    "def problem_4(df, output=\"q4.png\"):\n",
    "    # write your logic here\n",
    "\n",
    "    plt.savefig(output) # do not show the plt\n",
    "    plt.close()"
   ]
  },
  {
   "cell_type": "code",
   "execution_count": null,
   "metadata": {},
   "outputs": [],
   "source": [
    "# Testing: Problem 4\n",
    "plt.clf()\n",
    "students = pd.DataFrame({'Boys': [67, 78], 'Girls': [72, 80], }, index=['First Year', 'Second Year'])\n",
    "problem_4(students, \"q4.jpg\")"
   ]
  }
 ],
 "metadata": {
  "kernelspec": {
   "display_name": "Python 3",
   "language": "python",
   "name": "python3"
  },
  "language_info": {
   "codemirror_mode": {
    "name": "ipython",
    "version": 3
   },
   "file_extension": ".py",
   "mimetype": "text/x-python",
   "name": "python",
   "nbconvert_exporter": "python",
   "pygments_lexer": "ipython3",
   "version": "3.8.3"
  }
 },
 "nbformat": 4,
 "nbformat_minor": 2
}
